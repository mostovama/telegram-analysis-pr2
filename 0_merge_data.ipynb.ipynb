{
 "cells": [
  {
   "cell_type": "code",
   "execution_count": 1,
   "id": "09b4e301",
   "metadata": {},
   "outputs": [],
   "source": [
    "import os\n",
    "import pandas as pd\n",
    "import glob"
   ]
  },
  {
   "cell_type": "code",
   "execution_count": 3,
   "id": "d076df7c",
   "metadata": {},
   "outputs": [],
   "source": [
    "DIALOGS_DATA_PATH = \"D:/pythonchik/progapy/proj/dialogs_data\"\n",
    "DIALOGS_META_DATA_PATH = \"D:/pythonchik/progapy/proj/dialogs_list\"\n",
    "\n",
    "MERGED_DATA_PATH = \"D:/pythonchik/progapy/proj/merged_data\""
   ]
  },
  {
   "cell_type": "code",
   "execution_count": 4,
   "id": "65a13565",
   "metadata": {},
   "outputs": [
    {
     "name": "stdout",
     "output_type": "stream",
     "text": [
      "dialogs_data\n",
      "dialogs_list\n",
      "merged_data\n"
     ]
    }
   ],
   "source": [
    "!ls D:/pythonchik/progapy/proj/"
   ]
  },
  {
   "cell_type": "code",
   "execution_count": 5,
   "id": "6d0eddab",
   "metadata": {},
   "outputs": [],
   "source": [
    "dialogs_data_files = glob.glob(f\"{DIALOGS_DATA_PATH}/*.csv\")\n",
    "dialogs_meta_data_files = glob.glob(f\"{DIALOGS_META_DATA_PATH}/*.json\")"
   ]
  },
  {
   "cell_type": "markdown",
   "id": "78cc73b6",
   "metadata": {},
   "source": [
    "## merging all dialogs_data (csv files) into one"
   ]
  },
  {
   "cell_type": "code",
   "execution_count": 6,
   "id": "4d582c3b",
   "metadata": {},
   "outputs": [],
   "source": [
    "df_array = []\n",
    "\n",
    "for d in dialogs_data_files:\n",
    "    local_df = pd.read_csv(d)\n",
    "    local_df[\"dialog_id\"] = os.path.basename(d).split(\".\")[0]\n",
    "    \n",
    "    df_array.append(local_df)\n",
    "    \n",
    "df = pd.concat(df_array, ignore_index=True)"
   ]
  },
  {
   "cell_type": "code",
   "execution_count": 7,
   "id": "96e470a8",
   "metadata": {},
   "outputs": [],
   "source": [
    "if not os.path.isdir(MERGED_DATA_PATH):\n",
    "    os.mkdir(MERGED_DATA_PATH)\n",
    "\n",
    "if \"Unnamed: 0\" in df:\n",
    "    df = df.drop([\"Unnamed: 0\"], axis=True)\n",
    "    \n",
    "df.to_csv(f\"{MERGED_DATA_PATH}/dialogs_data_all.csv\", index=False)"
   ]
  },
  {
   "cell_type": "code",
   "execution_count": 8,
   "id": "16776850",
   "metadata": {},
   "outputs": [
    {
     "data": {
      "text/plain": [
       "(476575, 9)"
      ]
     },
     "execution_count": 8,
     "metadata": {},
     "output_type": "execute_result"
    }
   ],
   "source": [
    "df.shape"
   ]
  },
  {
   "cell_type": "code",
   "execution_count": 9,
   "id": "4672e8ce",
   "metadata": {},
   "outputs": [
    {
     "data": {
      "text/html": [
       "<div>\n",
       "<style scoped>\n",
       "    .dataframe tbody tr th:only-of-type {\n",
       "        vertical-align: middle;\n",
       "    }\n",
       "\n",
       "    .dataframe tbody tr th {\n",
       "        vertical-align: top;\n",
       "    }\n",
       "\n",
       "    .dataframe thead th {\n",
       "        text-align: right;\n",
       "    }\n",
       "</style>\n",
       "<table border=\"1\" class=\"dataframe\">\n",
       "  <thead>\n",
       "    <tr style=\"text-align: right;\">\n",
       "      <th></th>\n",
       "      <th>id</th>\n",
       "      <th>date</th>\n",
       "      <th>from_id</th>\n",
       "      <th>to_id</th>\n",
       "      <th>fwd_from</th>\n",
       "      <th>message</th>\n",
       "      <th>type</th>\n",
       "      <th>duration</th>\n",
       "      <th>dialog_id</th>\n",
       "    </tr>\n",
       "  </thead>\n",
       "  <tbody>\n",
       "    <tr>\n",
       "      <th>0</th>\n",
       "      <td>1796</td>\n",
       "      <td>2022-02-15 12:40:13+00:00</td>\n",
       "      <td>NaN</td>\n",
       "      <td>PeerChannel(channel_id=1064125916)</td>\n",
       "      <td>MessageFwdHeader(date=datetime.datetime(2022, ...</td>\n",
       "      <td>Друзі, ми збільшили суму щомісячних донейтів б...</td>\n",
       "      <td>photo</td>\n",
       "      <td>NaN</td>\n",
       "      <td>-1001064125916</td>\n",
       "    </tr>\n",
       "    <tr>\n",
       "      <th>1</th>\n",
       "      <td>1795</td>\n",
       "      <td>2022-02-15 11:00:21+00:00</td>\n",
       "      <td>NaN</td>\n",
       "      <td>PeerChannel(channel_id=1064125916)</td>\n",
       "      <td>NaN</td>\n",
       "      <td>🔍 Вакансії для HR-фахівців у Дніпрі та віддале...</td>\n",
       "      <td>text</td>\n",
       "      <td>NaN</td>\n",
       "      <td>-1001064125916</td>\n",
       "    </tr>\n",
       "    <tr>\n",
       "      <th>2</th>\n",
       "      <td>1794</td>\n",
       "      <td>2022-02-14 16:24:00+00:00</td>\n",
       "      <td>NaN</td>\n",
       "      <td>PeerChannel(channel_id=1064125916)</td>\n",
       "      <td>NaN</td>\n",
       "      <td>🇺🇦 DOU запускає антиросійський флешмоб #ITsupp...</td>\n",
       "      <td>text</td>\n",
       "      <td>NaN</td>\n",
       "      <td>-1001064125916</td>\n",
       "    </tr>\n",
       "    <tr>\n",
       "      <th>3</th>\n",
       "      <td>1793</td>\n",
       "      <td>2022-02-14 08:53:53+00:00</td>\n",
       "      <td>NaN</td>\n",
       "      <td>PeerChannel(channel_id=1064125916)</td>\n",
       "      <td>NaN</td>\n",
       "      <td>Рейтинг мов програмування 2022. C# обійшов Jav...</td>\n",
       "      <td>photo</td>\n",
       "      <td>NaN</td>\n",
       "      <td>-1001064125916</td>\n",
       "    </tr>\n",
       "    <tr>\n",
       "      <th>4</th>\n",
       "      <td>1792</td>\n",
       "      <td>2022-02-10 13:00:04+00:00</td>\n",
       "      <td>NaN</td>\n",
       "      <td>PeerChannel(channel_id=1064125916)</td>\n",
       "      <td>NaN</td>\n",
       "      <td>16 березня — Безкоштовне стажування з програму...</td>\n",
       "      <td>text</td>\n",
       "      <td>NaN</td>\n",
       "      <td>-1001064125916</td>\n",
       "    </tr>\n",
       "    <tr>\n",
       "      <th>5</th>\n",
       "      <td>1791</td>\n",
       "      <td>2022-02-10 11:00:43+00:00</td>\n",
       "      <td>NaN</td>\n",
       "      <td>PeerChannel(channel_id=1064125916)</td>\n",
       "      <td>NaN</td>\n",
       "      <td>🔥 Гаряча вакансія DOU\\n\\nCustomer Support Spec...</td>\n",
       "      <td>photo</td>\n",
       "      <td>NaN</td>\n",
       "      <td>-1001064125916</td>\n",
       "    </tr>\n",
       "    <tr>\n",
       "      <th>6</th>\n",
       "      <td>1790</td>\n",
       "      <td>2022-02-10 07:00:03+00:00</td>\n",
       "      <td>NaN</td>\n",
       "      <td>PeerChannel(channel_id=1064125916)</td>\n",
       "      <td>NaN</td>\n",
       "      <td>23 лютого — Майстер-клас «Який він, SMM у 2022...</td>\n",
       "      <td>text</td>\n",
       "      <td>NaN</td>\n",
       "      <td>-1001064125916</td>\n",
       "    </tr>\n",
       "    <tr>\n",
       "      <th>7</th>\n",
       "      <td>1789</td>\n",
       "      <td>2022-02-09 14:02:21+00:00</td>\n",
       "      <td>NaN</td>\n",
       "      <td>PeerChannel(channel_id=1064125916)</td>\n",
       "      <td>NaN</td>\n",
       "      <td>🔍 Вакансії для Node.js девелоперів у Дніпрі та...</td>\n",
       "      <td>text</td>\n",
       "      <td>NaN</td>\n",
       "      <td>-1001064125916</td>\n",
       "    </tr>\n",
       "    <tr>\n",
       "      <th>8</th>\n",
       "      <td>1788</td>\n",
       "      <td>2022-02-09 13:00:04+00:00</td>\n",
       "      <td>NaN</td>\n",
       "      <td>PeerChannel(channel_id=1064125916)</td>\n",
       "      <td>NaN</td>\n",
       "      <td>23 февраля — Индивидуальная стажировка на пози...</td>\n",
       "      <td>text</td>\n",
       "      <td>NaN</td>\n",
       "      <td>-1001064125916</td>\n",
       "    </tr>\n",
       "    <tr>\n",
       "      <th>9</th>\n",
       "      <td>1787</td>\n",
       "      <td>2022-02-09 11:27:41+00:00</td>\n",
       "      <td>NaN</td>\n",
       "      <td>PeerChannel(channel_id=1064125916)</td>\n",
       "      <td>NaN</td>\n",
       "      <td>Свічнулись в IT, підвищили зарплату на 50% та ...</td>\n",
       "      <td>photo</td>\n",
       "      <td>NaN</td>\n",
       "      <td>-1001064125916</td>\n",
       "    </tr>\n",
       "  </tbody>\n",
       "</table>\n",
       "</div>"
      ],
      "text/plain": [
       "     id                       date from_id  \\\n",
       "0  1796  2022-02-15 12:40:13+00:00     NaN   \n",
       "1  1795  2022-02-15 11:00:21+00:00     NaN   \n",
       "2  1794  2022-02-14 16:24:00+00:00     NaN   \n",
       "3  1793  2022-02-14 08:53:53+00:00     NaN   \n",
       "4  1792  2022-02-10 13:00:04+00:00     NaN   \n",
       "5  1791  2022-02-10 11:00:43+00:00     NaN   \n",
       "6  1790  2022-02-10 07:00:03+00:00     NaN   \n",
       "7  1789  2022-02-09 14:02:21+00:00     NaN   \n",
       "8  1788  2022-02-09 13:00:04+00:00     NaN   \n",
       "9  1787  2022-02-09 11:27:41+00:00     NaN   \n",
       "\n",
       "                                to_id  \\\n",
       "0  PeerChannel(channel_id=1064125916)   \n",
       "1  PeerChannel(channel_id=1064125916)   \n",
       "2  PeerChannel(channel_id=1064125916)   \n",
       "3  PeerChannel(channel_id=1064125916)   \n",
       "4  PeerChannel(channel_id=1064125916)   \n",
       "5  PeerChannel(channel_id=1064125916)   \n",
       "6  PeerChannel(channel_id=1064125916)   \n",
       "7  PeerChannel(channel_id=1064125916)   \n",
       "8  PeerChannel(channel_id=1064125916)   \n",
       "9  PeerChannel(channel_id=1064125916)   \n",
       "\n",
       "                                            fwd_from  \\\n",
       "0  MessageFwdHeader(date=datetime.datetime(2022, ...   \n",
       "1                                                NaN   \n",
       "2                                                NaN   \n",
       "3                                                NaN   \n",
       "4                                                NaN   \n",
       "5                                                NaN   \n",
       "6                                                NaN   \n",
       "7                                                NaN   \n",
       "8                                                NaN   \n",
       "9                                                NaN   \n",
       "\n",
       "                                             message   type  duration  \\\n",
       "0  Друзі, ми збільшили суму щомісячних донейтів б...  photo       NaN   \n",
       "1  🔍 Вакансії для HR-фахівців у Дніпрі та віддале...   text       NaN   \n",
       "2  🇺🇦 DOU запускає антиросійський флешмоб #ITsupp...   text       NaN   \n",
       "3  Рейтинг мов програмування 2022. C# обійшов Jav...  photo       NaN   \n",
       "4  16 березня — Безкоштовне стажування з програму...   text       NaN   \n",
       "5  🔥 Гаряча вакансія DOU\\n\\nCustomer Support Spec...  photo       NaN   \n",
       "6  23 лютого — Майстер-клас «Який він, SMM у 2022...   text       NaN   \n",
       "7  🔍 Вакансії для Node.js девелоперів у Дніпрі та...   text       NaN   \n",
       "8  23 февраля — Индивидуальная стажировка на пози...   text       NaN   \n",
       "9  Свічнулись в IT, підвищили зарплату на 50% та ...  photo       NaN   \n",
       "\n",
       "        dialog_id  \n",
       "0  -1001064125916  \n",
       "1  -1001064125916  \n",
       "2  -1001064125916  \n",
       "3  -1001064125916  \n",
       "4  -1001064125916  \n",
       "5  -1001064125916  \n",
       "6  -1001064125916  \n",
       "7  -1001064125916  \n",
       "8  -1001064125916  \n",
       "9  -1001064125916  "
      ]
     },
     "execution_count": 9,
     "metadata": {},
     "output_type": "execute_result"
    }
   ],
   "source": [
    "df.head(10)"
   ]
  },
  {
   "cell_type": "code",
   "execution_count": 10,
   "id": "d1bd96f3",
   "metadata": {},
   "outputs": [
    {
     "data": {
      "text/plain": [
       "('2017-05-27 16:16:33+00:00', '2022-02-16 09:46:45+00:00')"
      ]
     },
     "execution_count": 10,
     "metadata": {},
     "output_type": "execute_result"
    }
   ],
   "source": [
    "min(df[\"date\"]),max(df[\"date\"])"
   ]
  },
  {
   "cell_type": "code",
   "execution_count": 11,
   "id": "2a1aafab",
   "metadata": {},
   "outputs": [
    {
     "data": {
      "text/plain": [
       "type\n",
       "photo       91952\n",
       "sticker     12265\n",
       "text       332211\n",
       "video       36071\n",
       "voice        4076\n",
       "Name: type, dtype: int64"
      ]
     },
     "execution_count": 11,
     "metadata": {},
     "output_type": "execute_result"
    }
   ],
   "source": [
    "df.groupby([\"type\"])[\"type\"].count()"
   ]
  },
  {
   "cell_type": "code",
   "execution_count": 12,
   "id": "66a677a9",
   "metadata": {},
   "outputs": [
    {
     "data": {
      "text/plain": [
       "type\n",
       "photo           0.0\n",
       "sticker         0.0\n",
       "text            0.0\n",
       "video      879635.0\n",
       "voice      116131.0\n",
       "Name: duration, dtype: float64"
      ]
     },
     "execution_count": 12,
     "metadata": {},
     "output_type": "execute_result"
    }
   ],
   "source": [
    "df.groupby([\"type\"])[\"duration\"].sum()"
   ]
  },
  {
   "cell_type": "markdown",
   "id": "e24460df",
   "metadata": {},
   "source": [
    "## merging all dialogs_meta_data (json files) into one"
   ]
  },
  {
   "cell_type": "code",
   "execution_count": 13,
   "id": "3cecdc78",
   "metadata": {},
   "outputs": [],
   "source": [
    "df_array = []\n",
    "\n",
    "for d in dialogs_meta_data_files:\n",
    "    local_df = pd.read_json(d)\n",
    "    local_df = local_df.rename({'id': 'dialog_id'}, axis=1)\n",
    "    df_array.append(local_df)\n",
    "    \n",
    "df_meta = pd.concat(df_array, ignore_index=True)"
   ]
  },
  {
   "cell_type": "code",
   "execution_count": 14,
   "id": "6b458ce5",
   "metadata": {},
   "outputs": [],
   "source": [
    "df_meta.to_csv(f\"{MERGED_DATA_PATH}/dialogs_users_all.csv\", index=False)"
   ]
  },
  {
   "cell_type": "code",
   "execution_count": 15,
   "id": "313b23f0",
   "metadata": {},
   "outputs": [
    {
     "data": {
      "text/plain": [
       "(466, 4)"
      ]
     },
     "execution_count": 15,
     "metadata": {},
     "output_type": "execute_result"
    }
   ],
   "source": [
    "df_meta.shape"
   ]
  },
  {
   "cell_type": "code",
   "execution_count": 16,
   "id": "ef6f51b9",
   "metadata": {},
   "outputs": [
    {
     "data": {
      "text/html": [
       "<div>\n",
       "<style scoped>\n",
       "    .dataframe tbody tr th:only-of-type {\n",
       "        vertical-align: middle;\n",
       "    }\n",
       "\n",
       "    .dataframe tbody tr th {\n",
       "        vertical-align: top;\n",
       "    }\n",
       "\n",
       "    .dataframe thead th {\n",
       "        text-align: right;\n",
       "    }\n",
       "</style>\n",
       "<table border=\"1\" class=\"dataframe\">\n",
       "  <thead>\n",
       "    <tr style=\"text-align: right;\">\n",
       "      <th></th>\n",
       "      <th>dialog_id</th>\n",
       "      <th>name</th>\n",
       "      <th>type</th>\n",
       "      <th>users</th>\n",
       "    </tr>\n",
       "  </thead>\n",
       "  <tbody>\n",
       "    <tr>\n",
       "      <th>0</th>\n",
       "      <td>-1001174214342</td>\n",
       "      <td>маша в квадрате</td>\n",
       "      <td>Channel</td>\n",
       "      <td>{'user_id': 463034736, 'first_name': 'маша', '...</td>\n",
       "    </tr>\n",
       "    <tr>\n",
       "      <th>1</th>\n",
       "      <td>-1001174214342</td>\n",
       "      <td>маша в квадрате</td>\n",
       "      <td>Channel</td>\n",
       "      <td>{'user_id': 497519466, 'first_name': 'братик🥺'...</td>\n",
       "    </tr>\n",
       "    <tr>\n",
       "      <th>2</th>\n",
       "      <td>-1001260680685</td>\n",
       "      <td>Примати20х2</td>\n",
       "      <td>Group</td>\n",
       "      <td>{'user_id': 633201121, 'first_name': 'ARINA', ...</td>\n",
       "    </tr>\n",
       "    <tr>\n",
       "      <th>3</th>\n",
       "      <td>-1001260680685</td>\n",
       "      <td>Примати20х2</td>\n",
       "      <td>Group</td>\n",
       "      <td>{'user_id': 1379932460, 'first_name': 'Petro.m...</td>\n",
       "    </tr>\n",
       "    <tr>\n",
       "      <th>4</th>\n",
       "      <td>-1001260680685</td>\n",
       "      <td>Примати20х2</td>\n",
       "      <td>Group</td>\n",
       "      <td>{'user_id': 544701196, 'first_name': 'Ярослав'...</td>\n",
       "    </tr>\n",
       "    <tr>\n",
       "      <th>5</th>\n",
       "      <td>-1001260680685</td>\n",
       "      <td>Примати20х2</td>\n",
       "      <td>Group</td>\n",
       "      <td>{'user_id': 470773767, 'first_name': 'Kate', '...</td>\n",
       "    </tr>\n",
       "    <tr>\n",
       "      <th>6</th>\n",
       "      <td>-1001260680685</td>\n",
       "      <td>Примати20х2</td>\n",
       "      <td>Group</td>\n",
       "      <td>{'user_id': 564960030, 'first_name': 'Анастаси...</td>\n",
       "    </tr>\n",
       "    <tr>\n",
       "      <th>7</th>\n",
       "      <td>-1001260680685</td>\n",
       "      <td>Примати20х2</td>\n",
       "      <td>Group</td>\n",
       "      <td>{'user_id': 459802765, 'first_name': 'Yaryna',...</td>\n",
       "    </tr>\n",
       "    <tr>\n",
       "      <th>8</th>\n",
       "      <td>-1001260680685</td>\n",
       "      <td>Примати20х2</td>\n",
       "      <td>Group</td>\n",
       "      <td>{'user_id': 716096216, 'first_name': 'ark', 'l...</td>\n",
       "    </tr>\n",
       "    <tr>\n",
       "      <th>9</th>\n",
       "      <td>-1001260680685</td>\n",
       "      <td>Примати20х2</td>\n",
       "      <td>Group</td>\n",
       "      <td>{'user_id': 5005476282, 'first_name': 'віка', ...</td>\n",
       "    </tr>\n",
       "  </tbody>\n",
       "</table>\n",
       "</div>"
      ],
      "text/plain": [
       "       dialog_id             name     type  \\\n",
       "0 -1001174214342  маша в квадрате  Channel   \n",
       "1 -1001174214342  маша в квадрате  Channel   \n",
       "2 -1001260680685      Примати20х2    Group   \n",
       "3 -1001260680685      Примати20х2    Group   \n",
       "4 -1001260680685      Примати20х2    Group   \n",
       "5 -1001260680685      Примати20х2    Group   \n",
       "6 -1001260680685      Примати20х2    Group   \n",
       "7 -1001260680685      Примати20х2    Group   \n",
       "8 -1001260680685      Примати20х2    Group   \n",
       "9 -1001260680685      Примати20х2    Group   \n",
       "\n",
       "                                               users  \n",
       "0  {'user_id': 463034736, 'first_name': 'маша', '...  \n",
       "1  {'user_id': 497519466, 'first_name': 'братик🥺'...  \n",
       "2  {'user_id': 633201121, 'first_name': 'ARINA', ...  \n",
       "3  {'user_id': 1379932460, 'first_name': 'Petro.m...  \n",
       "4  {'user_id': 544701196, 'first_name': 'Ярослав'...  \n",
       "5  {'user_id': 470773767, 'first_name': 'Kate', '...  \n",
       "6  {'user_id': 564960030, 'first_name': 'Анастаси...  \n",
       "7  {'user_id': 459802765, 'first_name': 'Yaryna',...  \n",
       "8  {'user_id': 716096216, 'first_name': 'ark', 'l...  \n",
       "9  {'user_id': 5005476282, 'first_name': 'віка', ...  "
      ]
     },
     "execution_count": 16,
     "metadata": {},
     "output_type": "execute_result"
    }
   ],
   "source": [
    "df_meta.head(10)"
   ]
  },
  {
   "cell_type": "code",
   "execution_count": 17,
   "id": "186f2f67",
   "metadata": {},
   "outputs": [
    {
     "data": {
      "text/plain": [
       "type\n",
       "Channel             2\n",
       "Group             445\n",
       "Private dialog     19\n",
       "Name: type, dtype: int64"
      ]
     },
     "execution_count": 17,
     "metadata": {},
     "output_type": "execute_result"
    }
   ],
   "source": [
    "df_meta.groupby([\"type\"])[\"type\"].count()"
   ]
  },
  {
   "cell_type": "code",
   "execution_count": null,
   "id": "36bc5268",
   "metadata": {},
   "outputs": [],
   "source": []
  },
  {
   "cell_type": "code",
   "execution_count": null,
   "id": "88fdb66c",
   "metadata": {},
   "outputs": [],
   "source": []
  }
 ],
 "metadata": {
  "kernelspec": {
   "display_name": "Python 3 (ipykernel)",
   "language": "python",
   "name": "python3"
  },
  "language_info": {
   "codemirror_mode": {
    "name": "ipython",
    "version": 3
   },
   "file_extension": ".py",
   "mimetype": "text/x-python",
   "name": "python",
   "nbconvert_exporter": "python",
   "pygments_lexer": "ipython3",
   "version": "3.9.7"
  }
 },
 "nbformat": 4,
 "nbformat_minor": 5
}
